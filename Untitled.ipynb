{
 "cells": [
  {
   "cell_type": "code",
   "execution_count": 1,
   "id": "20cc2bcb-abc2-4c6f-ba86-0d38036d5369",
   "metadata": {},
   "outputs": [
    {
     "name": "stdout",
     "output_type": "stream",
     "text": [
      "✅ All 6 CSV files created in your current directory!\n"
     ]
    },
    {
     "name": "stderr",
     "output_type": "stream",
     "text": [
      "C:\\Users\\Lenovo\\AppData\\Local\\Temp\\ipykernel_20908\\289932472.py:7: FutureWarning: A value is trying to be set on a copy of a DataFrame or Series through chained assignment using an inplace method.\n",
      "The behavior will change in pandas 3.0. This inplace method will never work because the intermediate object on which we are setting values always behaves as a copy.\n",
      "\n",
      "For example, when doing 'df[col].method(value, inplace=True)', try using 'df.method({col: value}, inplace=True)' or df[col] = df[col].method(value) instead, to perform the operation inplace on the original object.\n",
      "\n",
      "\n",
      "  df['Laps'].fillna(df['Laps'].median(), inplace=True)\n"
     ]
    }
   ],
   "source": [
    "import pandas as pd\n",
    "\n",
    "# Load dataset\n",
    "df = pd.read_csv('f1_winners.csv')\n",
    "df['Winner'] = df['Winner'].str.strip()\n",
    "df['Date'] = pd.to_datetime(df['Date'])\n",
    "df['Laps'].fillna(df['Laps'].median(), inplace=True)\n",
    "df['Year'] = df['Date'].dt.year\n",
    "df['Decade'] = (df['Year'] // 10) * 10\n",
    "\n",
    "# Generate all 6 files\n",
    "df['Winner'].value_counts().head(10).reset_index(name='Wins').to_csv('top_10_winners.csv', index=False)\n",
    "df['Car'].value_counts().head(10).reset_index(name='Wins').to_csv('top_10_cars.csv', index=False)\n",
    "df['Grand Prix'].value_counts().head(10).reset_index(name='Races').to_csv('top_10_grand_prix.csv', index=False)\n",
    "df.groupby('Decade').size().reset_index(name='Races').to_csv('races_by_decade.csv', index=False)\n",
    "df['Laps'].value_counts().sort_index().reset_index(name='Frequency').to_csv('laps_distribution.csv', index=False)\n",
    "df[['Year', 'Laps']].to_csv('year_laps_correlation.csv', index=False)\n",
    "\n",
    "print(\"✅ All 6 CSV files created in your current directory!\")\n"
   ]
  },
  {
   "cell_type": "code",
   "execution_count": null,
   "id": "30cd06ce-0dbc-482d-8ee5-0bd53c37e9b6",
   "metadata": {},
   "outputs": [],
   "source": []
  }
 ],
 "metadata": {
  "kernelspec": {
   "display_name": "Python 3 (ipykernel)",
   "language": "python",
   "name": "python3"
  },
  "language_info": {
   "codemirror_mode": {
    "name": "ipython",
    "version": 3
   },
   "file_extension": ".py",
   "mimetype": "text/x-python",
   "name": "python",
   "nbconvert_exporter": "python",
   "pygments_lexer": "ipython3",
   "version": "3.11.9"
  }
 },
 "nbformat": 4,
 "nbformat_minor": 5
}
