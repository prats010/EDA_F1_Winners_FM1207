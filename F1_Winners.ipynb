{
 "cells": [
  {
   "cell_type": "code",
   "execution_count": 2,
   "id": "c516b788-c98b-4818-b7fe-f6eb6e7818fd",
   "metadata": {
    "scrolled": true
   },
   "outputs": [
    {
     "data": {
      "text/html": [
       "<div>\n",
       "<style scoped>\n",
       "    .dataframe tbody tr th:only-of-type {\n",
       "        vertical-align: middle;\n",
       "    }\n",
       "\n",
       "    .dataframe tbody tr th {\n",
       "        vertical-align: top;\n",
       "    }\n",
       "\n",
       "    .dataframe thead th {\n",
       "        text-align: right;\n",
       "    }\n",
       "</style>\n",
       "<table border=\"1\" class=\"dataframe\">\n",
       "  <thead>\n",
       "    <tr style=\"text-align: right;\">\n",
       "      <th></th>\n",
       "      <th>Grand Prix</th>\n",
       "      <th>Date</th>\n",
       "      <th>Winner</th>\n",
       "      <th>Car</th>\n",
       "      <th>Laps</th>\n",
       "      <th>Time</th>\n",
       "      <th>Name Code</th>\n",
       "    </tr>\n",
       "  </thead>\n",
       "  <tbody>\n",
       "    <tr>\n",
       "      <th>0</th>\n",
       "      <td>Great Britain</td>\n",
       "      <td>1950-05-13</td>\n",
       "      <td>Nino  Farina</td>\n",
       "      <td>Alfa Romeo</td>\n",
       "      <td>70.0</td>\n",
       "      <td>2:13:23.600</td>\n",
       "      <td>FAR</td>\n",
       "    </tr>\n",
       "    <tr>\n",
       "      <th>1</th>\n",
       "      <td>Monaco</td>\n",
       "      <td>1950-05-21</td>\n",
       "      <td>Juan Manuel  Fangio</td>\n",
       "      <td>Alfa Romeo</td>\n",
       "      <td>100.0</td>\n",
       "      <td>3:13:18.700</td>\n",
       "      <td>FAN</td>\n",
       "    </tr>\n",
       "    <tr>\n",
       "      <th>2</th>\n",
       "      <td>Indianapolis 500</td>\n",
       "      <td>1950-05-30</td>\n",
       "      <td>Johnnie Parsons</td>\n",
       "      <td>Kurtis Kraft Offenhauser</td>\n",
       "      <td>138.0</td>\n",
       "      <td>2:46:55.970</td>\n",
       "      <td>PAR</td>\n",
       "    </tr>\n",
       "    <tr>\n",
       "      <th>3</th>\n",
       "      <td>Switzerland</td>\n",
       "      <td>1950-06-04</td>\n",
       "      <td>Nino  Farina</td>\n",
       "      <td>Alfa Romeo</td>\n",
       "      <td>42.0</td>\n",
       "      <td>2:02:53.700</td>\n",
       "      <td>FAR</td>\n",
       "    </tr>\n",
       "    <tr>\n",
       "      <th>4</th>\n",
       "      <td>Belgium</td>\n",
       "      <td>1950-06-18</td>\n",
       "      <td>Juan Manuel  Fangio</td>\n",
       "      <td>Alfa Romeo</td>\n",
       "      <td>35.0</td>\n",
       "      <td>2:47:26.000</td>\n",
       "      <td>FAN</td>\n",
       "    </tr>\n",
       "  </tbody>\n",
       "</table>\n",
       "</div>"
      ],
      "text/plain": [
       "         Grand Prix        Date                Winner  \\\n",
       "0     Great Britain  1950-05-13         Nino  Farina    \n",
       "1            Monaco  1950-05-21  Juan Manuel  Fangio    \n",
       "2  Indianapolis 500  1950-05-30      Johnnie Parsons    \n",
       "3       Switzerland  1950-06-04         Nino  Farina    \n",
       "4           Belgium  1950-06-18  Juan Manuel  Fangio    \n",
       "\n",
       "                        Car   Laps         Time Name Code  \n",
       "0                Alfa Romeo   70.0  2:13:23.600       FAR  \n",
       "1                Alfa Romeo  100.0  3:13:18.700       FAN  \n",
       "2  Kurtis Kraft Offenhauser  138.0  2:46:55.970       PAR  \n",
       "3                Alfa Romeo   42.0  2:02:53.700       FAR  \n",
       "4                Alfa Romeo   35.0  2:47:26.000       FAN  "
      ]
     },
     "metadata": {},
     "output_type": "display_data"
    },
    {
     "data": {
      "text/html": [
       "<div>\n",
       "<style scoped>\n",
       "    .dataframe tbody tr th:only-of-type {\n",
       "        vertical-align: middle;\n",
       "    }\n",
       "\n",
       "    .dataframe tbody tr th {\n",
       "        vertical-align: top;\n",
       "    }\n",
       "\n",
       "    .dataframe thead th {\n",
       "        text-align: right;\n",
       "    }\n",
       "</style>\n",
       "<table border=\"1\" class=\"dataframe\">\n",
       "  <thead>\n",
       "    <tr style=\"text-align: right;\">\n",
       "      <th></th>\n",
       "      <th>Grand Prix</th>\n",
       "      <th>Date</th>\n",
       "      <th>Winner</th>\n",
       "      <th>Car</th>\n",
       "      <th>Laps</th>\n",
       "      <th>Time</th>\n",
       "      <th>Name Code</th>\n",
       "    </tr>\n",
       "  </thead>\n",
       "  <tbody>\n",
       "    <tr>\n",
       "      <th>1105</th>\n",
       "      <td>Saudi Arabia</td>\n",
       "      <td>2024-03-09</td>\n",
       "      <td>Max  Verstappen</td>\n",
       "      <td>Red Bull Racing Honda RBPT</td>\n",
       "      <td>50.0</td>\n",
       "      <td>1:20:43.273</td>\n",
       "      <td>VER</td>\n",
       "    </tr>\n",
       "    <tr>\n",
       "      <th>1106</th>\n",
       "      <td>Australia</td>\n",
       "      <td>2024-03-24</td>\n",
       "      <td>Carlos  Sainz</td>\n",
       "      <td>Ferrari</td>\n",
       "      <td>58.0</td>\n",
       "      <td>1:20:26.843</td>\n",
       "      <td>SAI</td>\n",
       "    </tr>\n",
       "    <tr>\n",
       "      <th>1107</th>\n",
       "      <td>Japan</td>\n",
       "      <td>2024-04-07</td>\n",
       "      <td>Max  Verstappen</td>\n",
       "      <td>Red Bull Racing Honda RBPT</td>\n",
       "      <td>53.0</td>\n",
       "      <td>1:54:23.566</td>\n",
       "      <td>VER</td>\n",
       "    </tr>\n",
       "    <tr>\n",
       "      <th>1108</th>\n",
       "      <td>China</td>\n",
       "      <td>2024-04-21</td>\n",
       "      <td>Max  Verstappen</td>\n",
       "      <td>Red Bull Racing Honda RBPT</td>\n",
       "      <td>56.0</td>\n",
       "      <td>1:40:52.554</td>\n",
       "      <td>VER</td>\n",
       "    </tr>\n",
       "    <tr>\n",
       "      <th>1109</th>\n",
       "      <td>Miami</td>\n",
       "      <td>2024-05-05</td>\n",
       "      <td>Lando  Norris</td>\n",
       "      <td>McLaren Mercedes</td>\n",
       "      <td>57.0</td>\n",
       "      <td>1:30:49.876</td>\n",
       "      <td>NOR</td>\n",
       "    </tr>\n",
       "  </tbody>\n",
       "</table>\n",
       "</div>"
      ],
      "text/plain": [
       "        Grand Prix        Date            Winner                         Car  \\\n",
       "1105  Saudi Arabia  2024-03-09  Max  Verstappen   Red Bull Racing Honda RBPT   \n",
       "1106     Australia  2024-03-24    Carlos  Sainz                      Ferrari   \n",
       "1107         Japan  2024-04-07  Max  Verstappen   Red Bull Racing Honda RBPT   \n",
       "1108         China  2024-04-21  Max  Verstappen   Red Bull Racing Honda RBPT   \n",
       "1109         Miami  2024-05-05    Lando  Norris             McLaren Mercedes   \n",
       "\n",
       "      Laps         Time Name Code  \n",
       "1105  50.0  1:20:43.273       VER  \n",
       "1106  58.0  1:20:26.843       SAI  \n",
       "1107  53.0  1:54:23.566       VER  \n",
       "1108  56.0  1:40:52.554       VER  \n",
       "1109  57.0  1:30:49.876       NOR  "
      ]
     },
     "metadata": {},
     "output_type": "display_data"
    },
    {
     "data": {
      "text/plain": [
       "'Shape: (1110, 7)'"
      ]
     },
     "metadata": {},
     "output_type": "display_data"
    },
    {
     "data": {
      "text/plain": [
       "\"Columns: ['Grand Prix', 'Date', 'Winner', 'Car', 'Laps', 'Time', 'Name Code']\""
      ]
     },
     "metadata": {},
     "output_type": "display_data"
    },
    {
     "data": {
      "text/plain": [
       "'Data types:\\nGrand Prix     object\\nDate           object\\nWinner         object\\nCar            object\\nLaps          float64\\nTime           object\\nName Code      object\\ndtype: object'"
      ]
     },
     "metadata": {},
     "output_type": "display_data"
    },
    {
     "data": {
      "text/plain": [
       "'Missing values:\\n'"
      ]
     },
     "metadata": {},
     "output_type": "display_data"
    },
    {
     "data": {
      "text/plain": [
       "Grand Prix    0\n",
       "Date          0\n",
       "Winner        0\n",
       "Car           0\n",
       "Laps          3\n",
       "Time          3\n",
       "Name Code     0\n",
       "dtype: int64"
      ]
     },
     "metadata": {},
     "output_type": "display_data"
    },
    {
     "data": {
      "text/plain": [
       "'Unique values per column:\\n'"
      ]
     },
     "metadata": {},
     "output_type": "display_data"
    },
    {
     "data": {
      "text/plain": [
       "Grand Prix      53\n",
       "Date          1107\n",
       "Winner         115\n",
       "Car             63\n",
       "Laps            73\n",
       "Time          1106\n",
       "Name Code      109\n",
       "dtype: int64"
      ]
     },
     "metadata": {},
     "output_type": "display_data"
    }
   ],
   "source": [
    "#Dataset Overview.\n",
    "import pandas as pd\n",
    "import numpy as np\n",
    "\n",
    "df = pd.read_csv('f1_winners.csv')  # Use your dataset name\n",
    "\n",
    "# Show first and last 5 rows\n",
    "display(df.head())\n",
    "display(df.tail())\n",
    "\n",
    "# Show shape, column names, data types\n",
    "display(f\"Shape: {df.shape}\")\n",
    "display(f\"Columns: {list(df.columns)}\")\n",
    "display(f\"Data types:\\n{df.dtypes}\")\n",
    "\n",
    "# Count missing values and unique values\n",
    "display(\"Missing values:\\n\", df.isnull().sum())\n",
    "display(\"Unique values per column:\\n\", df.nunique())\n"
   ]
  },
  {
   "cell_type": "code",
   "execution_count": 4,
   "id": "975ef8b9-4cb8-4fd4-93cf-c25942b2ed3f",
   "metadata": {
    "scrolled": true
   },
   "outputs": [
    {
     "data": {
      "text/plain": [
       "'Duplicate rows:'"
      ]
     },
     "metadata": {},
     "output_type": "display_data"
    },
    {
     "data": {
      "text/plain": [
       "0"
      ]
     },
     "metadata": {},
     "output_type": "display_data"
    },
    {
     "data": {
      "text/plain": [
       "'Invalid laps:'"
      ]
     },
     "metadata": {},
     "output_type": "display_data"
    },
    {
     "data": {
      "text/html": [
       "<div>\n",
       "<style scoped>\n",
       "    .dataframe tbody tr th:only-of-type {\n",
       "        vertical-align: middle;\n",
       "    }\n",
       "\n",
       "    .dataframe tbody tr th {\n",
       "        vertical-align: top;\n",
       "    }\n",
       "\n",
       "    .dataframe thead th {\n",
       "        text-align: right;\n",
       "    }\n",
       "</style>\n",
       "<table border=\"1\" class=\"dataframe\">\n",
       "  <thead>\n",
       "    <tr style=\"text-align: right;\">\n",
       "      <th></th>\n",
       "      <th>Grand Prix</th>\n",
       "      <th>Date</th>\n",
       "      <th>Winner</th>\n",
       "      <th>Car</th>\n",
       "      <th>Laps</th>\n",
       "      <th>Time</th>\n",
       "      <th>Name Code</th>\n",
       "    </tr>\n",
       "  </thead>\n",
       "  <tbody>\n",
       "    <tr>\n",
       "      <th>11</th>\n",
       "      <td>France</td>\n",
       "      <td>1951-07-01</td>\n",
       "      <td>Luigi  Fagioli</td>\n",
       "      <td>Alfa Romeo</td>\n",
       "      <td>NaN</td>\n",
       "      <td>NaN</td>\n",
       "      <td>FAG</td>\n",
       "    </tr>\n",
       "    <tr>\n",
       "      <th>49</th>\n",
       "      <td>Argentina</td>\n",
       "      <td>1956-01-22</td>\n",
       "      <td>Luigi  Musso</td>\n",
       "      <td>Ferrari</td>\n",
       "      <td>NaN</td>\n",
       "      <td>NaN</td>\n",
       "      <td>MUS</td>\n",
       "    </tr>\n",
       "    <tr>\n",
       "      <th>63</th>\n",
       "      <td>Great Britain</td>\n",
       "      <td>1957-07-20</td>\n",
       "      <td>Tony  Brooks</td>\n",
       "      <td>Vanwall</td>\n",
       "      <td>NaN</td>\n",
       "      <td>NaN</td>\n",
       "      <td>BRO</td>\n",
       "    </tr>\n",
       "  </tbody>\n",
       "</table>\n",
       "</div>"
      ],
      "text/plain": [
       "       Grand Prix        Date           Winner         Car  Laps Time  \\\n",
       "11         France  1951-07-01  Luigi  Fagioli   Alfa Romeo   NaN  NaN   \n",
       "49      Argentina  1956-01-22    Luigi  Musso      Ferrari   NaN  NaN   \n",
       "63  Great Britain  1957-07-20    Tony  Brooks      Vanwall   NaN  NaN   \n",
       "\n",
       "   Name Code  \n",
       "11       FAG  \n",
       "49       MUS  \n",
       "63       BRO  "
      ]
     },
     "metadata": {},
     "output_type": "display_data"
    },
    {
     "data": {
      "text/plain": [
       "'Rows with leading/trailing spaces in Winner:'"
      ]
     },
     "metadata": {},
     "output_type": "display_data"
    },
    {
     "data": {
      "text/plain": [
       "1106"
      ]
     },
     "metadata": {},
     "output_type": "display_data"
    },
    {
     "data": {
      "text/plain": [
       "'Sample Winner names:'"
      ]
     },
     "metadata": {},
     "output_type": "display_data"
    },
    {
     "data": {
      "text/plain": [
       "['Nino  Farina ',\n",
       " 'Juan Manuel  Fangio ',\n",
       " 'Johnnie Parsons ',\n",
       " 'Nino  Farina ',\n",
       " 'Juan Manuel  Fangio ']"
      ]
     },
     "metadata": {},
     "output_type": "display_data"
    }
   ],
   "source": [
    "#Data Quality Checks.\n",
    "\n",
    "# Check for duplicate rows\n",
    "display(\"Duplicate rows:\", df.duplicated().sum())\n",
    "\n",
    "# Check for questionable data (negative/zero laps)\n",
    "display(\"Invalid laps:\", df[(df['Laps'] <= 0) | (df['Laps'].isnull())])\n",
    "\n",
    "# Check for formatting issues\n",
    "display(\"Rows with leading/trailing spaces in Winner:\", (df['Winner'].str.strip() != df['Winner']).sum())\n",
    "\n",
    "# display a sample of Winner column\n",
    "display(\"Sample Winner names:\", df['Winner'].head().tolist())\n"
   ]
  },
  {
   "cell_type": "code",
   "execution_count": 5,
   "id": "27b91156-6547-4b13-9039-9532a31662a6",
   "metadata": {},
   "outputs": [
    {
     "name": "stderr",
     "output_type": "stream",
     "text": [
      "C:\\Users\\Lenovo\\AppData\\Local\\Temp\\ipykernel_17612\\1512177210.py:2: FutureWarning: A value is trying to be set on a copy of a DataFrame or Series through chained assignment using an inplace method.\n",
      "The behavior will change in pandas 3.0. This inplace method will never work because the intermediate object on which we are setting values always behaves as a copy.\n",
      "\n",
      "For example, when doing 'df[col].method(value, inplace=True)', try using 'df.method({col: value}, inplace=True)' or df[col] = df[col].method(value) instead, to perform the operation inplace on the original object.\n",
      "\n",
      "\n",
      "  df['Laps'].fillna(df['Laps'].median(), inplace=True)\n",
      "C:\\Users\\Lenovo\\AppData\\Local\\Temp\\ipykernel_17612\\1512177210.py:3: FutureWarning: A value is trying to be set on a copy of a DataFrame or Series through chained assignment using an inplace method.\n",
      "The behavior will change in pandas 3.0. This inplace method will never work because the intermediate object on which we are setting values always behaves as a copy.\n",
      "\n",
      "For example, when doing 'df[col].method(value, inplace=True)', try using 'df.method({col: value}, inplace=True)' or df[col] = df[col].method(value) instead, to perform the operation inplace on the original object.\n",
      "\n",
      "\n",
      "  df['Time'].fillna(method='ffill', inplace=True)\n",
      "C:\\Users\\Lenovo\\AppData\\Local\\Temp\\ipykernel_17612\\1512177210.py:3: FutureWarning: Series.fillna with 'method' is deprecated and will raise in a future version. Use obj.ffill() or obj.bfill() instead.\n",
      "  df['Time'].fillna(method='ffill', inplace=True)\n"
     ]
    },
    {
     "data": {
      "text/plain": [
       "'Cleaned data preview:\\n'"
      ]
     },
     "metadata": {},
     "output_type": "display_data"
    },
    {
     "data": {
      "text/html": [
       "<div>\n",
       "<style scoped>\n",
       "    .dataframe tbody tr th:only-of-type {\n",
       "        vertical-align: middle;\n",
       "    }\n",
       "\n",
       "    .dataframe tbody tr th {\n",
       "        vertical-align: top;\n",
       "    }\n",
       "\n",
       "    .dataframe thead th {\n",
       "        text-align: right;\n",
       "    }\n",
       "</style>\n",
       "<table border=\"1\" class=\"dataframe\">\n",
       "  <thead>\n",
       "    <tr style=\"text-align: right;\">\n",
       "      <th></th>\n",
       "      <th>Grand Prix</th>\n",
       "      <th>Date</th>\n",
       "      <th>Winner</th>\n",
       "      <th>Car</th>\n",
       "      <th>Laps</th>\n",
       "      <th>Time</th>\n",
       "      <th>Name Code</th>\n",
       "    </tr>\n",
       "  </thead>\n",
       "  <tbody>\n",
       "    <tr>\n",
       "      <th>0</th>\n",
       "      <td>Great Britain</td>\n",
       "      <td>1950-05-13</td>\n",
       "      <td>Nino  Farina</td>\n",
       "      <td>Alfa Romeo</td>\n",
       "      <td>70.0</td>\n",
       "      <td>2:13:23.600</td>\n",
       "      <td>FAR</td>\n",
       "    </tr>\n",
       "    <tr>\n",
       "      <th>1</th>\n",
       "      <td>Monaco</td>\n",
       "      <td>1950-05-21</td>\n",
       "      <td>Juan Manuel  Fangio</td>\n",
       "      <td>Alfa Romeo</td>\n",
       "      <td>100.0</td>\n",
       "      <td>3:13:18.700</td>\n",
       "      <td>FAN</td>\n",
       "    </tr>\n",
       "    <tr>\n",
       "      <th>2</th>\n",
       "      <td>Indianapolis 500</td>\n",
       "      <td>1950-05-30</td>\n",
       "      <td>Johnnie Parsons</td>\n",
       "      <td>Kurtis Kraft Offenhauser</td>\n",
       "      <td>138.0</td>\n",
       "      <td>2:46:55.970</td>\n",
       "      <td>PAR</td>\n",
       "    </tr>\n",
       "    <tr>\n",
       "      <th>3</th>\n",
       "      <td>Switzerland</td>\n",
       "      <td>1950-06-04</td>\n",
       "      <td>Nino  Farina</td>\n",
       "      <td>Alfa Romeo</td>\n",
       "      <td>42.0</td>\n",
       "      <td>2:02:53.700</td>\n",
       "      <td>FAR</td>\n",
       "    </tr>\n",
       "    <tr>\n",
       "      <th>4</th>\n",
       "      <td>Belgium</td>\n",
       "      <td>1950-06-18</td>\n",
       "      <td>Juan Manuel  Fangio</td>\n",
       "      <td>Alfa Romeo</td>\n",
       "      <td>35.0</td>\n",
       "      <td>2:47:26.000</td>\n",
       "      <td>FAN</td>\n",
       "    </tr>\n",
       "  </tbody>\n",
       "</table>\n",
       "</div>"
      ],
      "text/plain": [
       "         Grand Prix       Date               Winner                       Car  \\\n",
       "0     Great Britain 1950-05-13         Nino  Farina                Alfa Romeo   \n",
       "1            Monaco 1950-05-21  Juan Manuel  Fangio                Alfa Romeo   \n",
       "2  Indianapolis 500 1950-05-30      Johnnie Parsons  Kurtis Kraft Offenhauser   \n",
       "3       Switzerland 1950-06-04         Nino  Farina                Alfa Romeo   \n",
       "4           Belgium 1950-06-18  Juan Manuel  Fangio                Alfa Romeo   \n",
       "\n",
       "    Laps         Time Name Code  \n",
       "0   70.0  2:13:23.600       FAR  \n",
       "1  100.0  3:13:18.700       FAN  \n",
       "2  138.0  2:46:55.970       PAR  \n",
       "3   42.0  2:02:53.700       FAR  \n",
       "4   35.0  2:47:26.000       FAN  "
      ]
     },
     "metadata": {},
     "output_type": "display_data"
    }
   ],
   "source": [
    "#Data Cleaning.\n",
    "\n",
    "# Fill missing 'Laps' with median; 'Time' with forward fill\n",
    "df['Laps'].fillna(df['Laps'].median(), inplace=True)\n",
    "df['Time'].fillna(method='ffill', inplace=True)\n",
    "\n",
    "# Remove duplicates\n",
    "df.drop_duplicates(inplace=True)\n",
    "\n",
    "# Strip leading/trailing spaces from 'Winner'\n",
    "df['Winner'] = df['Winner'].str.strip()\n",
    "\n",
    "# Convert 'Date' column to datetime\n",
    "df['Date'] = pd.to_datetime(df['Date'])\n",
    "display(\"Cleaned data preview:\\n\", df.head())\n"
   ]
  },
  {
   "cell_type": "code",
   "execution_count": 7,
   "id": "d9b09f2c-f10c-43e3-baa6-542ea8092de4",
   "metadata": {},
   "outputs": [
    {
     "data": {
      "text/plain": [
       "count    1110.000000\n",
       "mean       64.654955\n",
       "std        20.240102\n",
       "min         1.000000\n",
       "25%        54.000000\n",
       "50%        65.000000\n",
       "75%        72.000000\n",
       "max       200.000000\n",
       "Name: Laps, dtype: float64"
      ]
     },
     "metadata": {},
     "output_type": "display_data"
    },
    {
     "data": {
      "text/plain": [
       "'Skewness: 2.49'"
      ]
     },
     "metadata": {},
     "output_type": "display_data"
    },
    {
     "data": {
      "text/plain": [
       "'Kurtosis: 16.85'"
      ]
     },
     "metadata": {},
     "output_type": "display_data"
    },
    {
     "data": {
      "text/plain": [
       "'Top 10 Winners:\\n'"
      ]
     },
     "metadata": {},
     "output_type": "display_data"
    },
    {
     "data": {
      "text/plain": [
       "Winner\n",
       "Lewis  Hamilton        103\n",
       "Michael  Schumacher     91\n",
       "Max  Verstappen         58\n",
       "Sebastian  Vettel       53\n",
       "Alain  Prost            51\n",
       "Ayrton  Senna           41\n",
       "Fernando  Alonso        32\n",
       "Nigel  Mansell          31\n",
       "Jackie  Stewart         27\n",
       "Jim  Clark              25\n",
       "Name: count, dtype: int64"
      ]
     },
     "metadata": {},
     "output_type": "display_data"
    },
    {
     "data": {
      "text/plain": [
       "'Top 10 Grand Prix:\\n'"
      ]
     },
     "metadata": {},
     "output_type": "display_data"
    },
    {
     "data": {
      "text/plain": [
       "Grand Prix\n",
       "Great Britain    75\n",
       "Italy            74\n",
       "Monaco           69\n",
       "Belgium          68\n",
       "Germany          64\n",
       "France           63\n",
       "Spain            53\n",
       "Canada           52\n",
       "Brazil           50\n",
       "United States    39\n",
       "Name: count, dtype: int64"
      ]
     },
     "metadata": {},
     "output_type": "display_data"
    },
    {
     "data": {
      "text/plain": [
       "'Top 10 Cars:\\n'"
      ]
     },
     "metadata": {},
     "output_type": "display_data"
    },
    {
     "data": {
      "text/plain": [
       "Car\n",
       "Ferrari                       245\n",
       "Mercedes                      116\n",
       "McLaren Mercedes               80\n",
       "Williams Renault               64\n",
       "Lotus Ford                     47\n",
       "McLaren Honda                  44\n",
       "Renault                        35\n",
       "McLaren Ford                   35\n",
       "Red Bull Racing Renault        35\n",
       "Red Bull Racing Honda RBPT     25\n",
       "Name: count, dtype: int64"
      ]
     },
     "metadata": {},
     "output_type": "display_data"
    },
    {
     "data": {
      "text/plain": [
       "'Top Name Codes:\\n'"
      ]
     },
     "metadata": {},
     "output_type": "display_data"
    },
    {
     "data": {
      "text/plain": [
       "Name Code\n",
       "HAM    103\n",
       "MSC     91\n",
       "VER     57\n",
       "VET     53\n",
       "PRO     51\n",
       "SEN     41\n",
       "HIL     39\n",
       "ALO     32\n",
       "MAN     31\n",
       "ROS     28\n",
       "Name: count, dtype: int64"
      ]
     },
     "metadata": {},
     "output_type": "display_data"
    }
   ],
   "source": [
    "#Descriptive Statistics.\n",
    "\n",
    "# Numeric stats (Laps)\n",
    "display(df['Laps'].describe())\n",
    "display(f\"Skewness: {df['Laps'].skew():.2f}\")\n",
    "display(f\"Kurtosis: {df['Laps'].kurtosis():.2f}\")\n",
    "\n",
    "# Categorical summaries\n",
    "display(\"Top 10 Winners:\\n\", df['Winner'].value_counts().head(10))\n",
    "display(\"Top 10 Grand Prix:\\n\", df['Grand Prix'].value_counts().head(10))\n",
    "display(\"Top 10 Cars:\\n\", df['Car'].value_counts().head(10))\n",
    "display(\"Top Name Codes:\\n\", df['Name Code'].value_counts().head(10))\n"
   ]
  },
  {
   "cell_type": "code",
   "execution_count": 15,
   "id": "d178133f-a5fc-4995-9845-f3dce59240a3",
   "metadata": {},
   "outputs": [
    {
     "data": {
      "text/html": [
       "<div>\n",
       "<style scoped>\n",
       "    .dataframe tbody tr th:only-of-type {\n",
       "        vertical-align: middle;\n",
       "    }\n",
       "\n",
       "    .dataframe tbody tr th {\n",
       "        vertical-align: top;\n",
       "    }\n",
       "\n",
       "    .dataframe thead th {\n",
       "        text-align: right;\n",
       "    }\n",
       "</style>\n",
       "<table border=\"1\" class=\"dataframe\">\n",
       "  <thead>\n",
       "    <tr style=\"text-align: right;\">\n",
       "      <th></th>\n",
       "      <th>Grand Prix</th>\n",
       "      <th>Date</th>\n",
       "      <th>Winner</th>\n",
       "      <th>Car</th>\n",
       "      <th>Laps</th>\n",
       "      <th>Time</th>\n",
       "      <th>Name Code</th>\n",
       "      <th>Laps_Scaled</th>\n",
       "      <th>Laps_Log</th>\n",
       "      <th>Winner_Encoded</th>\n",
       "      <th>GrandPrix_Encoded</th>\n",
       "      <th>Car_Encoded</th>\n",
       "    </tr>\n",
       "  </thead>\n",
       "  <tbody>\n",
       "    <tr>\n",
       "      <th>0</th>\n",
       "      <td>Great Britain</td>\n",
       "      <td>1950-05-13</td>\n",
       "      <td>Nino  Farina</td>\n",
       "      <td>Alfa Romeo</td>\n",
       "      <td>70.0</td>\n",
       "      <td>2:13:23.600</td>\n",
       "      <td>FAR</td>\n",
       "      <td>0.264201</td>\n",
       "      <td>4.262680</td>\n",
       "      <td>83</td>\n",
       "      <td>19</td>\n",
       "      <td>0</td>\n",
       "    </tr>\n",
       "    <tr>\n",
       "      <th>1</th>\n",
       "      <td>Monaco</td>\n",
       "      <td>1950-05-21</td>\n",
       "      <td>Juan Manuel  Fangio</td>\n",
       "      <td>Alfa Romeo</td>\n",
       "      <td>100.0</td>\n",
       "      <td>3:13:18.700</td>\n",
       "      <td>FAN</td>\n",
       "      <td>1.747075</td>\n",
       "      <td>4.615121</td>\n",
       "      <td>60</td>\n",
       "      <td>30</td>\n",
       "      <td>0</td>\n",
       "    </tr>\n",
       "    <tr>\n",
       "      <th>2</th>\n",
       "      <td>Indianapolis 500</td>\n",
       "      <td>1950-05-30</td>\n",
       "      <td>Johnnie Parsons</td>\n",
       "      <td>Kurtis Kraft Offenhauser</td>\n",
       "      <td>138.0</td>\n",
       "      <td>2:46:55.970</td>\n",
       "      <td>PAR</td>\n",
       "      <td>3.625382</td>\n",
       "      <td>4.934474</td>\n",
       "      <td>57</td>\n",
       "      <td>22</td>\n",
       "      <td>22</td>\n",
       "    </tr>\n",
       "    <tr>\n",
       "      <th>3</th>\n",
       "      <td>Switzerland</td>\n",
       "      <td>1950-06-04</td>\n",
       "      <td>Nino  Farina</td>\n",
       "      <td>Alfa Romeo</td>\n",
       "      <td>42.0</td>\n",
       "      <td>2:02:53.700</td>\n",
       "      <td>FAR</td>\n",
       "      <td>-1.119815</td>\n",
       "      <td>3.761200</td>\n",
       "      <td>83</td>\n",
       "      <td>47</td>\n",
       "      <td>0</td>\n",
       "    </tr>\n",
       "    <tr>\n",
       "      <th>4</th>\n",
       "      <td>Belgium</td>\n",
       "      <td>1950-06-18</td>\n",
       "      <td>Juan Manuel  Fangio</td>\n",
       "      <td>Alfa Romeo</td>\n",
       "      <td>35.0</td>\n",
       "      <td>2:47:26.000</td>\n",
       "      <td>FAN</td>\n",
       "      <td>-1.465819</td>\n",
       "      <td>3.583519</td>\n",
       "      <td>60</td>\n",
       "      <td>7</td>\n",
       "      <td>0</td>\n",
       "    </tr>\n",
       "    <tr>\n",
       "      <th>...</th>\n",
       "      <td>...</td>\n",
       "      <td>...</td>\n",
       "      <td>...</td>\n",
       "      <td>...</td>\n",
       "      <td>...</td>\n",
       "      <td>...</td>\n",
       "      <td>...</td>\n",
       "      <td>...</td>\n",
       "      <td>...</td>\n",
       "      <td>...</td>\n",
       "      <td>...</td>\n",
       "      <td>...</td>\n",
       "    </tr>\n",
       "    <tr>\n",
       "      <th>1105</th>\n",
       "      <td>Saudi Arabia</td>\n",
       "      <td>2024-03-09</td>\n",
       "      <td>Max  Verstappen</td>\n",
       "      <td>Red Bull Racing Honda RBPT</td>\n",
       "      <td>50.0</td>\n",
       "      <td>1:20:43.273</td>\n",
       "      <td>VER</td>\n",
       "      <td>-0.724382</td>\n",
       "      <td>3.931826</td>\n",
       "      <td>74</td>\n",
       "      <td>40</td>\n",
       "      <td>46</td>\n",
       "    </tr>\n",
       "    <tr>\n",
       "      <th>1106</th>\n",
       "      <td>Australia</td>\n",
       "      <td>2024-03-24</td>\n",
       "      <td>Carlos  Sainz</td>\n",
       "      <td>Ferrari</td>\n",
       "      <td>58.0</td>\n",
       "      <td>1:20:26.843</td>\n",
       "      <td>SAI</td>\n",
       "      <td>-0.328949</td>\n",
       "      <td>4.077537</td>\n",
       "      <td>10</td>\n",
       "      <td>3</td>\n",
       "      <td>17</td>\n",
       "    </tr>\n",
       "    <tr>\n",
       "      <th>1107</th>\n",
       "      <td>Japan</td>\n",
       "      <td>2024-04-07</td>\n",
       "      <td>Max  Verstappen</td>\n",
       "      <td>Red Bull Racing Honda RBPT</td>\n",
       "      <td>53.0</td>\n",
       "      <td>1:54:23.566</td>\n",
       "      <td>VER</td>\n",
       "      <td>-0.576094</td>\n",
       "      <td>3.988984</td>\n",
       "      <td>74</td>\n",
       "      <td>24</td>\n",
       "      <td>46</td>\n",
       "    </tr>\n",
       "    <tr>\n",
       "      <th>1108</th>\n",
       "      <td>China</td>\n",
       "      <td>2024-04-21</td>\n",
       "      <td>Max  Verstappen</td>\n",
       "      <td>Red Bull Racing Honda RBPT</td>\n",
       "      <td>56.0</td>\n",
       "      <td>1:40:52.554</td>\n",
       "      <td>VER</td>\n",
       "      <td>-0.427807</td>\n",
       "      <td>4.043051</td>\n",
       "      <td>74</td>\n",
       "      <td>11</td>\n",
       "      <td>46</td>\n",
       "    </tr>\n",
       "    <tr>\n",
       "      <th>1109</th>\n",
       "      <td>Miami</td>\n",
       "      <td>2024-05-05</td>\n",
       "      <td>Lando  Norris</td>\n",
       "      <td>McLaren Mercedes</td>\n",
       "      <td>57.0</td>\n",
       "      <td>1:30:49.876</td>\n",
       "      <td>NOR</td>\n",
       "      <td>-0.378378</td>\n",
       "      <td>4.060443</td>\n",
       "      <td>64</td>\n",
       "      <td>29</td>\n",
       "      <td>37</td>\n",
       "    </tr>\n",
       "  </tbody>\n",
       "</table>\n",
       "<p>1110 rows × 12 columns</p>\n",
       "</div>"
      ],
      "text/plain": [
       "            Grand Prix       Date               Winner  \\\n",
       "0        Great Britain 1950-05-13         Nino  Farina   \n",
       "1               Monaco 1950-05-21  Juan Manuel  Fangio   \n",
       "2     Indianapolis 500 1950-05-30      Johnnie Parsons   \n",
       "3          Switzerland 1950-06-04         Nino  Farina   \n",
       "4              Belgium 1950-06-18  Juan Manuel  Fangio   \n",
       "...                ...        ...                  ...   \n",
       "1105      Saudi Arabia 2024-03-09      Max  Verstappen   \n",
       "1106         Australia 2024-03-24        Carlos  Sainz   \n",
       "1107             Japan 2024-04-07      Max  Verstappen   \n",
       "1108             China 2024-04-21      Max  Verstappen   \n",
       "1109             Miami 2024-05-05        Lando  Norris   \n",
       "\n",
       "                             Car   Laps         Time Name Code  Laps_Scaled  \\\n",
       "0                     Alfa Romeo   70.0  2:13:23.600       FAR     0.264201   \n",
       "1                     Alfa Romeo  100.0  3:13:18.700       FAN     1.747075   \n",
       "2       Kurtis Kraft Offenhauser  138.0  2:46:55.970       PAR     3.625382   \n",
       "3                     Alfa Romeo   42.0  2:02:53.700       FAR    -1.119815   \n",
       "4                     Alfa Romeo   35.0  2:47:26.000       FAN    -1.465819   \n",
       "...                          ...    ...          ...       ...          ...   \n",
       "1105  Red Bull Racing Honda RBPT   50.0  1:20:43.273       VER    -0.724382   \n",
       "1106                     Ferrari   58.0  1:20:26.843       SAI    -0.328949   \n",
       "1107  Red Bull Racing Honda RBPT   53.0  1:54:23.566       VER    -0.576094   \n",
       "1108  Red Bull Racing Honda RBPT   56.0  1:40:52.554       VER    -0.427807   \n",
       "1109            McLaren Mercedes   57.0  1:30:49.876       NOR    -0.378378   \n",
       "\n",
       "      Laps_Log  Winner_Encoded  GrandPrix_Encoded  Car_Encoded  \n",
       "0     4.262680              83                 19            0  \n",
       "1     4.615121              60                 30            0  \n",
       "2     4.934474              57                 22           22  \n",
       "3     3.761200              83                 47            0  \n",
       "4     3.583519              60                  7            0  \n",
       "...        ...             ...                ...          ...  \n",
       "1105  3.931826              74                 40           46  \n",
       "1106  4.077537              10                  3           17  \n",
       "1107  3.988984              74                 24           46  \n",
       "1108  4.043051              74                 11           46  \n",
       "1109  4.060443              64                 29           37  \n",
       "\n",
       "[1110 rows x 12 columns]"
      ]
     },
     "metadata": {},
     "output_type": "display_data"
    }
   ],
   "source": [
    "#Data Transformation & Encoding.\n",
    "\n",
    "from sklearn.preprocessing import StandardScaler, LabelEncoder\n",
    "\n",
    "# Scale 'Laps'\n",
    "scaler = StandardScaler()\n",
    "df['Laps_Scaled'] = scaler.fit_transform(df[['Laps']])\n",
    "\n",
    "# Log transformation to reduce skewness\n",
    "df['Laps_Log'] = np.log1p(df['Laps'])\n",
    "\n",
    "# Label Encode categorical columns\n",
    "le_winner = LabelEncoder()\n",
    "df['Winner_Encoded'] = le_winner.fit_transform(df['Winner'])\n",
    "le_gp = LabelEncoder()\n",
    "df['GrandPrix_Encoded'] = le_gp.fit_transform(df['Grand Prix'])\n",
    "le_car = LabelEncoder()\n",
    "df['Car_Encoded'] = le_car.fit_transform(df['Car'])\n",
    "display(df)\n"
   ]
  },
  {
   "cell_type": "code",
   "execution_count": 16,
   "id": "567ac40a-7452-4d9a-a975-008a04d99af1",
   "metadata": {},
   "outputs": [
    {
     "data": {
      "text/plain": [
       "'Number of outliers (IQR):'"
      ]
     },
     "metadata": {},
     "output_type": "display_data"
    },
    {
     "data": {
      "text/plain": [
       "65"
      ]
     },
     "metadata": {},
     "output_type": "display_data"
    },
    {
     "data": {
      "text/plain": [
       "'Outlier samples:\\n'"
      ]
     },
     "metadata": {},
     "output_type": "display_data"
    },
    {
     "data": {
      "text/html": [
       "<div>\n",
       "<style scoped>\n",
       "    .dataframe tbody tr th:only-of-type {\n",
       "        vertical-align: middle;\n",
       "    }\n",
       "\n",
       "    .dataframe tbody tr th {\n",
       "        vertical-align: top;\n",
       "    }\n",
       "\n",
       "    .dataframe thead th {\n",
       "        text-align: right;\n",
       "    }\n",
       "</style>\n",
       "<table border=\"1\" class=\"dataframe\">\n",
       "  <thead>\n",
       "    <tr style=\"text-align: right;\">\n",
       "      <th></th>\n",
       "      <th>Grand Prix</th>\n",
       "      <th>Date</th>\n",
       "      <th>Winner</th>\n",
       "      <th>Laps</th>\n",
       "    </tr>\n",
       "  </thead>\n",
       "  <tbody>\n",
       "    <tr>\n",
       "      <th>1</th>\n",
       "      <td>Monaco</td>\n",
       "      <td>1950-05-21</td>\n",
       "      <td>Juan Manuel  Fangio</td>\n",
       "      <td>100.0</td>\n",
       "    </tr>\n",
       "    <tr>\n",
       "      <th>2</th>\n",
       "      <td>Indianapolis 500</td>\n",
       "      <td>1950-05-30</td>\n",
       "      <td>Johnnie Parsons</td>\n",
       "      <td>138.0</td>\n",
       "    </tr>\n",
       "    <tr>\n",
       "      <th>8</th>\n",
       "      <td>Indianapolis 500</td>\n",
       "      <td>1951-05-30</td>\n",
       "      <td>Lee  Wallard</td>\n",
       "      <td>200.0</td>\n",
       "    </tr>\n",
       "    <tr>\n",
       "      <th>13</th>\n",
       "      <td>Germany</td>\n",
       "      <td>1951-07-29</td>\n",
       "      <td>Alberto  Ascari</td>\n",
       "      <td>20.0</td>\n",
       "    </tr>\n",
       "    <tr>\n",
       "      <th>17</th>\n",
       "      <td>Indianapolis 500</td>\n",
       "      <td>1952-05-30</td>\n",
       "      <td>Troy  Ruttman</td>\n",
       "      <td>200.0</td>\n",
       "    </tr>\n",
       "    <tr>\n",
       "      <th>21</th>\n",
       "      <td>Germany</td>\n",
       "      <td>1952-08-03</td>\n",
       "      <td>Alberto  Ascari</td>\n",
       "      <td>18.0</td>\n",
       "    </tr>\n",
       "    <tr>\n",
       "      <th>25</th>\n",
       "      <td>Indianapolis 500</td>\n",
       "      <td>1953-05-30</td>\n",
       "      <td>Bill Vukovich</td>\n",
       "      <td>200.0</td>\n",
       "    </tr>\n",
       "    <tr>\n",
       "      <th>30</th>\n",
       "      <td>Germany</td>\n",
       "      <td>1953-08-02</td>\n",
       "      <td>Nino  Farina</td>\n",
       "      <td>18.0</td>\n",
       "    </tr>\n",
       "    <tr>\n",
       "      <th>34</th>\n",
       "      <td>Indianapolis 500</td>\n",
       "      <td>1954-05-31</td>\n",
       "      <td>Bill Vukovich</td>\n",
       "      <td>200.0</td>\n",
       "    </tr>\n",
       "    <tr>\n",
       "      <th>38</th>\n",
       "      <td>Germany</td>\n",
       "      <td>1954-08-01</td>\n",
       "      <td>Juan Manuel  Fangio</td>\n",
       "      <td>22.0</td>\n",
       "    </tr>\n",
       "  </tbody>\n",
       "</table>\n",
       "</div>"
      ],
      "text/plain": [
       "          Grand Prix       Date               Winner   Laps\n",
       "1             Monaco 1950-05-21  Juan Manuel  Fangio  100.0\n",
       "2   Indianapolis 500 1950-05-30      Johnnie Parsons  138.0\n",
       "8   Indianapolis 500 1951-05-30         Lee  Wallard  200.0\n",
       "13           Germany 1951-07-29      Alberto  Ascari   20.0\n",
       "17  Indianapolis 500 1952-05-30        Troy  Ruttman  200.0\n",
       "21           Germany 1952-08-03      Alberto  Ascari   18.0\n",
       "25  Indianapolis 500 1953-05-30        Bill Vukovich  200.0\n",
       "30           Germany 1953-08-02         Nino  Farina   18.0\n",
       "34  Indianapolis 500 1954-05-31        Bill Vukovich  200.0\n",
       "38           Germany 1954-08-01  Juan Manuel  Fangio   22.0"
      ]
     },
     "metadata": {},
     "output_type": "display_data"
    },
    {
     "data": {
      "text/plain": [
       "'Number of extreme outliers (Z-score):'"
      ]
     },
     "metadata": {},
     "output_type": "display_data"
    },
    {
     "data": {
      "text/plain": [
       "12"
      ]
     },
     "metadata": {},
     "output_type": "display_data"
    }
   ],
   "source": [
    "#Outlier Detection & Treatment.\n",
    "\n",
    "# IQR Method\n",
    "Q1 = df['Laps'].quantile(0.25)\n",
    "Q3 = df['Laps'].quantile(0.75)\n",
    "IQR = Q3 - Q1\n",
    "lower = Q1 - 1.5 * IQR\n",
    "upper = Q3 + 1.5 * IQR\n",
    "outliers = df[(df['Laps'] < lower) | (df['Laps'] > upper)]\n",
    "display(\"Number of outliers (IQR):\", len(outliers))\n",
    "display(\"Outlier samples:\\n\", outliers[['Grand Prix', 'Date', 'Winner', 'Laps']].head(10))\n",
    "\n",
    "# Z-score method\n",
    "from scipy import stats\n",
    "z_scores = np.abs(stats.zscore(df['Laps']))\n",
    "extreme_outliers = df[z_scores > 3]\n",
    "display(\"Number of extreme outliers (Z-score):\", len(extreme_outliers))\n",
    "\n",
    "# Treat outliers: capping\n",
    "df['Laps_Capped'] = df['Laps'].clip(lower=lower, upper=upper)\n"
   ]
  },
  {
   "cell_type": "code",
   "execution_count": 17,
   "id": "2cf525d8-b6ba-491e-8a51-66135faa7717",
   "metadata": {},
   "outputs": [
    {
     "data": {
      "image/png": "[encoded data removed]",
      "text/plain": [
       "<Figure size 640x480 with 1 Axes>"
      ]
     },
     "metadata": {},
     "output_type": "display_data"
    },
    {
     "data": {
      "image/png": "[encoded data removed]",
      "text/plain": [
       "<Figure size 640x480 with 1 Axes>"
      ]
     },
     "metadata": {},
     "output_type": "display_data"
    },
    {
     "data": {
      "image/png": "[encoded data removed]",
      "text/plain": [
       "<Figure size 640x480 with 1 Axes>"
      ]
     },
     "metadata": {},
     "output_type": "display_data"
    },
    {
     "data": {
      "image/png": "[encoded data removed]",
      "text/plain": [
       "<Figure size 640x480 with 1 Axes>"
      ]
     },
     "metadata": {},
     "output_type": "display_data"
    },
    {
     "data": {
      "image/png": "[encoded data removed]",
      "text/plain": [
       "<Figure size 640x480 with 1 Axes>"
      ]
     },
     "metadata": {},
     "output_type": "display_data"
    }
   ],
   "source": [
    "#Data Visualization.\n",
    "\n",
    "import matplotlib.pyplot as plt\n",
    "import seaborn as sns\n",
    "\n",
    "# Histogram for Laps\n",
    "plt.hist(df['Laps'], bins=40, color='steelblue', edgecolor='black')\n",
    "plt.title('Distribution of Laps in F1 Races')\n",
    "plt.xlabel('Number of Laps')\n",
    "plt.ylabel('Frequency')\n",
    "plt.show()\n",
    "\n",
    "# Box plot for Laps\n",
    "plt.boxplot(df['Laps'])\n",
    "plt.ylabel('Laps')\n",
    "plt.title('Box Plot - Laps Distribution')\n",
    "plt.show()\n",
    "\n",
    "# Bar chart for Top 10 Winners\n",
    "top_winners = df['Winner'].value_counts().head(10)\n",
    "top_winners.plot(kind='barh', color='coral')\n",
    "plt.xlabel('Wins')\n",
    "plt.ylabel('Driver')\n",
    "plt.title('Top 10 F1 Race Winners')\n",
    "plt.show()\n",
    "\n",
    "# Scatter plot for Laps vs Year\n",
    "df['Year'] = df['Date'].dt.year\n",
    "plt.scatter(df['Year'], df['Laps'], alpha=0.5)\n",
    "plt.xlabel('Year')\n",
    "plt.ylabel('Laps')\n",
    "plt.title('Laps vs Year')\n",
    "plt.show()\n",
    "\n",
    "# Line chart for races per decade\n",
    "df['Decade'] = (df['Year'] // 10) * 10\n",
    "decade_counts = df['Decade'].value_counts().sort_index()\n",
    "decade_counts.plot(kind='line', marker='o')\n",
    "plt.xlabel('Decade')\n",
    "plt.ylabel('Number of Races')\n",
    "plt.title('F1 Races by Decade')\n",
    "plt.show()\n"
   ]
  },
  {
   "cell_type": "code",
   "execution_count": 18,
   "id": "813a2e08-0022-4d54-8ef7-eb23d28af3bc",
   "metadata": {},
   "outputs": [
    {
     "data": {
      "text/plain": [
       "'\\nKey Insights:'"
      ]
     },
     "metadata": {},
     "output_type": "display_data"
    },
    {
     "data": {
      "text/plain": [
       "'- Most successful driver: Lewis Hamilton (103 wins)'"
      ]
     },
     "metadata": {},
     "output_type": "display_data"
    },
    {
     "data": {
      "text/plain": [
       "'- Ferrari dominates constructors (245 wins)'"
      ]
     },
     "metadata": {},
     "output_type": "display_data"
    },
    {
     "data": {
      "text/plain": [
       "'- Most frequent venue: Great Britain (75 races)'"
      ]
     },
     "metadata": {},
     "output_type": "display_data"
    },
    {
     "data": {
      "text/plain": [
       "'- Average laps: 64.65'"
      ]
     },
     "metadata": {},
     "output_type": "display_data"
    },
    {
     "data": {
      "text/plain": [
       "'- Outliers mainly from Indianapolis 500 (200 laps)/Belgium 2021 (1 lap)'"
      ]
     },
     "metadata": {},
     "output_type": "display_data"
    },
    {
     "data": {
      "text/plain": [
       "'- Dramatic increase in number of races per year/decade'"
      ]
     },
     "metadata": {},
     "output_type": "display_data"
    },
    {
     "data": {
      "text/plain": [
       "'- Data is clean, well-structured, and ML-ready!'"
      ]
     },
     "metadata": {},
     "output_type": "display_data"
    }
   ],
   "source": [
    "#Insights & Interpretation.\n",
    "\n",
    "display(\"\\nKey Insights:\")\n",
    "display(f\"- Most successful driver: Lewis Hamilton ({df['Winner'].value_counts().iloc[0]} wins)\")\n",
    "display(f\"- Ferrari dominates constructors ({df['Car'].value_counts().iloc[0]} wins)\")\n",
    "display(f\"- Most frequent venue: {df['Grand Prix'].value_counts().idxmax()} ({df['Grand Prix'].value_counts().max()} races)\")\n",
    "display(f\"- Average laps: {df['Laps'].mean():.2f}\")\n",
    "display(f\"- Outliers mainly from Indianapolis 500 (200 laps)/Belgium 2021 (1 lap)\")\n",
    "display(f\"- Dramatic increase in number of races per year/decade\")\n",
    "display(f\"- Data is clean, well-structured, and ML-ready!\")\n"
   ]
  },
  {
   "cell_type": "code",
   "execution_count": 20,
   "id": "89114259-4c4e-4fe4-9a99-dbcef52beaf0",
   "metadata": {},
   "outputs": [],
   "source": [
    "# Final cleaned dataset\n",
    "df.to_csv('f1_winners_cleaned_final.csv', index=False)\n"
   ]
  },
  {
   "cell_type": "code",
   "execution_count": null,
   "id": "e40ca373-8559-478c-8f6f-7c66b1cf3ce2",
   "metadata": {},
   "outputs": [],
   "source": []
  }
 ],
 "metadata": {
  "kernelspec": {
   "display_name": "Python 3 (ipykernel)",
   "language": "python",
   "name": "python3"
  },
  "language_info": {
   "codemirror_mode": {
    "name": "ipython",
    "version": 3
   },
   "file_extension": ".py",
   "mimetype": "text/x-python",
   "name": "python",
   "nbconvert_exporter": "python",
   "pygments_lexer": "ipython3",
   "version": "3.11.9"
  }
 },
 "nbformat": 4,
 "nbformat_minor": 5
}
